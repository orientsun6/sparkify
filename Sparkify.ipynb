{
 "cells": [
  {
   "cell_type": "markdown",
   "source": [
    "# Sparkify Project Workspace\n",
    "This workspace contains a tiny subset (128MB) of the full dataset available (12GB). Feel free to use this workspace to build your project, or to explore a smaller subset with Spark before deploying your cluster on the cloud. Instructions for setting up your Spark cluster is included in the last lesson of the Extracurricular Spark Course content.\n",
    "\n",
    "You can follow the steps below to guide your data analysis and model building portion of this project."
   ],
   "metadata": {}
  },
  {
   "cell_type": "code",
   "execution_count": 2,
   "source": [
    "# import libraries\n",
    "from pyspark.sql import SparkSession\n",
    "from pyspark.sql.functions import isnan, count, when, col, desc, udf, col, sort_array, asc, avg, isnull, lag, lead, approx_count_distinct\n",
    "from pyspark.sql.functions import sum as Fsum\n",
    "import pyspark.sql.functions as F \n",
    "from pyspark.sql.window import Window\n",
    "from pyspark.sql.types import IntegerType\n",
    "from pyspark.sql.types import FloatType\n",
    "\n",
    "import datetime\n",
    "\n",
    "import numpy as np\n",
    "import pandas as pd\n",
    "%matplotlib inline\n",
    "import matplotlib.pyplot as plt"
   ],
   "outputs": [],
   "metadata": {}
  },
  {
   "cell_type": "code",
   "execution_count": 5,
   "source": [
    "# create a Spark session\n",
    "spark = SparkSession \\\n",
    "    .builder \\\n",
    "    .appName(\"sparkify\") \\\n",
    "    .getOrCreate()"
   ],
   "outputs": [],
   "metadata": {}
  },
  {
   "cell_type": "markdown",
   "source": [
    "# Load and Clean Dataset\n",
    "In this workspace, the mini-dataset file is `mini_sparkify_event_data.json`. Load and clean the dataset, checking for invalid or missing data - for example, records without userids or sessionids. "
   ],
   "metadata": {}
  },
  {
   "cell_type": "code",
   "execution_count": 6,
   "source": [
    "df = spark.read.json(\"mini_sparkify_event_data.json\")"
   ],
   "outputs": [],
   "metadata": {}
  },
  {
   "cell_type": "code",
   "execution_count": 7,
   "source": [
    "df.printSchema()"
   ],
   "outputs": [
    {
     "output_type": "stream",
     "name": "stdout",
     "text": [
      "root\n",
      " |-- artist: string (nullable = true)\n",
      " |-- auth: string (nullable = true)\n",
      " |-- firstName: string (nullable = true)\n",
      " |-- gender: string (nullable = true)\n",
      " |-- itemInSession: long (nullable = true)\n",
      " |-- lastName: string (nullable = true)\n",
      " |-- length: double (nullable = true)\n",
      " |-- level: string (nullable = true)\n",
      " |-- location: string (nullable = true)\n",
      " |-- method: string (nullable = true)\n",
      " |-- page: string (nullable = true)\n",
      " |-- registration: long (nullable = true)\n",
      " |-- sessionId: long (nullable = true)\n",
      " |-- song: string (nullable = true)\n",
      " |-- status: long (nullable = true)\n",
      " |-- ts: long (nullable = true)\n",
      " |-- userAgent: string (nullable = true)\n",
      " |-- userId: string (nullable = true)\n",
      "\n"
     ]
    }
   ],
   "metadata": {}
  },
  {
   "cell_type": "code",
   "execution_count": 8,
   "source": [
    "df.count(), len(df.columns)"
   ],
   "outputs": [
    {
     "output_type": "execute_result",
     "data": {
      "text/plain": [
       "(286500, 18)"
      ]
     },
     "metadata": {},
     "execution_count": 8
    }
   ],
   "metadata": {}
  },
  {
   "cell_type": "markdown",
   "source": [
    "# Exploratory Data Analysis\n",
    "When you're working with the full dataset, perform EDA by loading a small subset of the data and doing basic manipulations within Spark. In this workspace, you are already provided a small subset of data you can explore.\n",
    "\n",
    "### Define Churn\n",
    "\n",
    "Once you've done some preliminary analysis, create a column `Churn` to use as the label for your model. I suggest using the `Cancellation Confirmation` events to define your churn, which happen for both paid and free users. As a bonus task, you can also look into the `Downgrade` events.\n",
    "\n",
    "### Explore Data\n",
    "Once you've defined churn, perform some exploratory data analysis to observe the behavior for users who stayed vs users who churned. You can start by exploring aggregates on these two groups of users, observing how much of a specific action they experienced per a certain time unit or number of songs played."
   ],
   "metadata": {}
  },
  {
   "cell_type": "code",
   "execution_count": 73,
   "source": [
    "df.take(10)"
   ],
   "outputs": [
    {
     "output_type": "execute_result",
     "data": {
      "text/plain": [
       "[Row(artist='Martha Tilston', auth='Logged In', firstName='Colin', gender='M', itemInSession=50, lastName='Freeman', length=277.89016, level='paid', location='Bakersfield, CA', method='PUT', page='NextSong', registration=1538173362000, sessionId=29, song='Rockpools', status=200, ts=1538352117000, userAgent='Mozilla/5.0 (Windows NT 6.1; WOW64; rv:31.0) Gecko/20100101 Firefox/31.0', userId='30'),\n",
       " Row(artist='Five Iron Frenzy', auth='Logged In', firstName='Micah', gender='M', itemInSession=79, lastName='Long', length=236.09424, level='free', location='Boston-Cambridge-Newton, MA-NH', method='PUT', page='NextSong', registration=1538331630000, sessionId=8, song='Canada', status=200, ts=1538352180000, userAgent='\"Mozilla/5.0 (Windows NT 6.1; WOW64) AppleWebKit/537.36 (KHTML, like Gecko) Chrome/37.0.2062.103 Safari/537.36\"', userId='9'),\n",
       " Row(artist='Adam Lambert', auth='Logged In', firstName='Colin', gender='M', itemInSession=51, lastName='Freeman', length=282.8273, level='paid', location='Bakersfield, CA', method='PUT', page='NextSong', registration=1538173362000, sessionId=29, song='Time For Miracles', status=200, ts=1538352394000, userAgent='Mozilla/5.0 (Windows NT 6.1; WOW64; rv:31.0) Gecko/20100101 Firefox/31.0', userId='30'),\n",
       " Row(artist='Enigma', auth='Logged In', firstName='Micah', gender='M', itemInSession=80, lastName='Long', length=262.71302, level='free', location='Boston-Cambridge-Newton, MA-NH', method='PUT', page='NextSong', registration=1538331630000, sessionId=8, song='Knocking On Forbidden Doors', status=200, ts=1538352416000, userAgent='\"Mozilla/5.0 (Windows NT 6.1; WOW64) AppleWebKit/537.36 (KHTML, like Gecko) Chrome/37.0.2062.103 Safari/537.36\"', userId='9'),\n",
       " Row(artist='Daft Punk', auth='Logged In', firstName='Colin', gender='M', itemInSession=52, lastName='Freeman', length=223.60771, level='paid', location='Bakersfield, CA', method='PUT', page='NextSong', registration=1538173362000, sessionId=29, song='Harder Better Faster Stronger', status=200, ts=1538352676000, userAgent='Mozilla/5.0 (Windows NT 6.1; WOW64; rv:31.0) Gecko/20100101 Firefox/31.0', userId='30'),\n",
       " Row(artist='The All-American Rejects', auth='Logged In', firstName='Micah', gender='M', itemInSession=81, lastName='Long', length=208.29995, level='free', location='Boston-Cambridge-Newton, MA-NH', method='PUT', page='NextSong', registration=1538331630000, sessionId=8, song=\"Don't Leave Me\", status=200, ts=1538352678000, userAgent='\"Mozilla/5.0 (Windows NT 6.1; WOW64) AppleWebKit/537.36 (KHTML, like Gecko) Chrome/37.0.2062.103 Safari/537.36\"', userId='9'),\n",
       " Row(artist='The Velvet Underground / Nico', auth='Logged In', firstName='Micah', gender='M', itemInSession=82, lastName='Long', length=260.46649, level='free', location='Boston-Cambridge-Newton, MA-NH', method='PUT', page='NextSong', registration=1538331630000, sessionId=8, song='Run Run Run', status=200, ts=1538352886000, userAgent='\"Mozilla/5.0 (Windows NT 6.1; WOW64) AppleWebKit/537.36 (KHTML, like Gecko) Chrome/37.0.2062.103 Safari/537.36\"', userId='9'),\n",
       " Row(artist='Starflyer 59', auth='Logged In', firstName='Colin', gender='M', itemInSession=53, lastName='Freeman', length=185.44281, level='paid', location='Bakersfield, CA', method='PUT', page='NextSong', registration=1538173362000, sessionId=29, song='Passengers (Old Album Version)', status=200, ts=1538352899000, userAgent='Mozilla/5.0 (Windows NT 6.1; WOW64; rv:31.0) Gecko/20100101 Firefox/31.0', userId='30'),\n",
       " Row(artist=None, auth='Logged In', firstName='Colin', gender='M', itemInSession=54, lastName='Freeman', length=None, level='paid', location='Bakersfield, CA', method='PUT', page='Add to Playlist', registration=1538173362000, sessionId=29, song=None, status=200, ts=1538352905000, userAgent='Mozilla/5.0 (Windows NT 6.1; WOW64; rv:31.0) Gecko/20100101 Firefox/31.0', userId='30'),\n",
       " Row(artist='Frumpies', auth='Logged In', firstName='Colin', gender='M', itemInSession=55, lastName='Freeman', length=134.47791, level='paid', location='Bakersfield, CA', method='PUT', page='NextSong', registration=1538173362000, sessionId=29, song='Fuck Kitty', status=200, ts=1538353084000, userAgent='Mozilla/5.0 (Windows NT 6.1; WOW64; rv:31.0) Gecko/20100101 Firefox/31.0', userId='30')]"
      ]
     },
     "metadata": {},
     "execution_count": 73
    }
   ],
   "metadata": {
    "scrolled": true
   }
  },
  {
   "cell_type": "code",
   "execution_count": 10,
   "source": [
    "df.describe().show()"
   ],
   "outputs": [
    {
     "output_type": "stream",
     "name": "stdout",
     "text": [
      "+-------+------------------+----------+---------+------+------------------+--------+------------------+------+-----------------+------+-------+--------------------+-----------------+--------------------+------------------+--------------------+--------------------+------------------+\n",
      "|summary|            artist|      auth|firstName|gender|     itemInSession|lastName|            length| level|         location|method|   page|        registration|        sessionId|                song|            status|                  ts|           userAgent|            userId|\n",
      "+-------+------------------+----------+---------+------+------------------+--------+------------------+------+-----------------+------+-------+--------------------+-----------------+--------------------+------------------+--------------------+--------------------+------------------+\n",
      "|  count|            228108|    286500|   278154|278154|            286500|  278154|            228108|286500|           278154|286500| 286500|              278154|           286500|              228108|            286500|              286500|              278154|            286500|\n",
      "|   mean| 551.0852017937219|      null|     null|  null|114.41421291448516|    null|249.11718197783722|  null|             null|  null|   null|1.535358834085557E12|1041.526554973822|            Infinity|210.05459685863875|1.540956889810471...|                null| 59682.02278593872|\n",
      "| stddev|1217.7693079161374|      null|     null|  null|129.76726201141085|    null| 99.23517921058324|  null|             null|  null|   null| 3.291321616328068E9|726.7762634630834|                 NaN| 31.50507848842202|1.5075439608187113E9|                null|109091.94999910519|\n",
      "|    min|               !!!| Cancelled| Adelaida|     F|                 0|   Adams|           0.78322|  free|       Albany, OR|   GET|  About|       1521380675000|                1|\u001cÃÂg ÃÂtti Gr...|               200|       1538352117000|\"Mozilla/5.0 (Mac...|                  |\n",
      "|    max| ÃÂlafur Arnalds|Logged Out|   Zyonna|     M|              1321|  Wright|        3024.66567|  paid|Winston-Salem, NC|   PUT|Upgrade|       1543247354000|             2474|ÃÂau hafa slopp...|               404|       1543799476000|Mozilla/5.0 (comp...|                99|\n",
      "+-------+------------------+----------+---------+------+------------------+--------+------------------+------+-----------------+------+-------+--------------------+-----------------+--------------------+------------------+--------------------+--------------------+------------------+\n",
      "\n"
     ]
    }
   ],
   "metadata": {
    "scrolled": true
   }
  },
  {
   "cell_type": "code",
   "execution_count": 75,
   "source": [
    "# visualize\n",
    "df.select(\"auth\").toPandas()['auth'].hist()"
   ],
   "outputs": [
    {
     "output_type": "execute_result",
     "data": {
      "text/plain": [
       "<matplotlib.axes._subplots.AxesSubplot at 0x7f5acbe63f60>"
      ]
     },
     "metadata": {},
     "execution_count": 75
    },
    {
     "output_type": "display_data",
     "data": {
      "text/plain": [
       "<matplotlib.figure.Figure at 0x7f5acbe47c18>"
      ],
      "image/png": "[encoded data removed]"
     },
     "metadata": {
      "needs_background": "light"
     }
    }
   ],
   "metadata": {}
  },
  {
   "cell_type": "code",
   "execution_count": 76,
   "source": [
    "df.select(\"level\").toPandas()['level'].hist() "
   ],
   "outputs": [
    {
     "output_type": "execute_result",
     "data": {
      "text/plain": [
       "<matplotlib.axes._subplots.AxesSubplot at 0x7f5ac586bb00>"
      ]
     },
     "metadata": {},
     "execution_count": 76
    },
    {
     "output_type": "display_data",
     "data": {
      "text/plain": [
       "<matplotlib.figure.Figure at 0x7f5aca543e48>"
      ],
      "image/png": "[encoded data removed]"
     },
     "metadata": {
      "needs_background": "light"
     }
    }
   ],
   "metadata": {}
  },
  {
   "cell_type": "code",
   "execution_count": 33,
   "source": [
    "print(df.select('userId').distinct().filter(df.gender == 'M').count())\n",
    "print(df.select('userId').distinct().filter(df.gender == 'F').count())\n"
   ],
   "outputs": [
    {
     "output_type": "stream",
     "name": "stdout",
     "text": [
      "121\n",
      "104\n"
     ]
    }
   ],
   "metadata": {}
  },
  {
   "cell_type": "code",
   "execution_count": 34,
   "source": [
    "df_gender = df.select([\"userId\", \"gender\"]).toPandas().groupby(['userId'])['gender'].first()\n",
    "plt.title('Gender distribution')\n",
    "df_gender.hist()"
   ],
   "outputs": [
    {
     "output_type": "execute_result",
     "data": {
      "text/plain": [
       "<AxesSubplot:title={'center':'Gender distribution'}>"
      ]
     },
     "metadata": {},
     "execution_count": 34
    },
    {
     "output_type": "display_data",
     "data": {
      "text/plain": [
       "<Figure size 432x288 with 1 Axes>"
      ],
      "image/png": "[encoded data removed]"
     },
     "metadata": {}
    }
   ],
   "metadata": {}
  },
  {
   "cell_type": "code",
   "execution_count": 78,
   "source": [
    "df.filter(df.auth == 'Logged In').count()"
   ],
   "outputs": [
    {
     "output_type": "execute_result",
     "data": {
      "text/plain": [
       "278102"
      ]
     },
     "metadata": {},
     "execution_count": 78
    }
   ],
   "metadata": {}
  },
  {
   "cell_type": "code",
   "execution_count": 79,
   "source": [
    "df.filter(df.auth == 'Cancelled').count()"
   ],
   "outputs": [
    {
     "output_type": "execute_result",
     "data": {
      "text/plain": [
       "52"
      ]
     },
     "metadata": {},
     "execution_count": 79
    }
   ],
   "metadata": {}
  },
  {
   "cell_type": "code",
   "execution_count": 151,
   "source": [
    "df.filter(df.auth == 'Cancelled').head(5)"
   ],
   "outputs": [
    {
     "output_type": "execute_result",
     "data": {
      "text/plain": [
       "[Row(artist=None, auth='Cancelled', firstName='Mason', gender='M', itemInSession=10, lastName='Hart', length=None, level='free', location='Corpus Christi, TX', method='GET', page='Cancellation Confirmation', registration=1533157139000, sessionId=174, song=None, status=200, ts=1539318918000, userAgent='\"Mozilla/5.0 (Macintosh; Intel Mac OS X 10_9_4) AppleWebKit/537.36 (KHTML, like Gecko) Chrome/36.0.1985.125 Safari/537.36\"', userId='125', hour='4', session_activities=11, sessions=1, last_activity=None, session_end=1539318918000, session_start=1539317144000, session_length=1774, listening=0, songs_listend=8, avg_session_length=1774.0, avg_songs_per_session=8.0, downgraded=1, churn=1),\n",
       " Row(artist=None, auth='Cancelled', firstName='Ethan', gender='M', itemInSession=176, lastName='Johnson', length=None, level='paid', location='Lexington-Fayette, KY', method='GET', page='Cancellation Confirmation', registration=1538080987000, sessionId=934, song=None, status=200, ts=1539761972000, userAgent='\"Mozilla/5.0 (Windows NT 6.1; WOW64) AppleWebKit/537.36 (KHTML, like Gecko) Chrome/36.0.1985.143 Safari/537.36\"', userId='51', hour='7', session_activities=177, sessions=10, last_activity=None, session_end=1539761972000, session_start=1539723331000, session_length=38641, listening=0, songs_listend=2111, avg_session_length=30557.145698051947, avg_songs_per_session=211.1, downgraded=1, churn=1),\n",
       " Row(artist=None, auth='Cancelled', firstName='Alexi', gender='F', itemInSession=42, lastName='Warren', length=None, level='paid', location='Spokane-Spokane Valley, WA', method='GET', page='Cancellation Confirmation', registration=1532482662000, sessionId=1819, song=None, status=200, ts=1542051608000, userAgent='Mozilla/5.0 (Windows NT 6.1; WOW64; rv:32.0) Gecko/20100101 Firefox/32.0', userId='54', hour='19', session_activities=41, sessions=36, last_activity=None, session_end=1542051608000, session_start=1542044678000, session_length=6930, listening=0, songs_listend=2841, avg_session_length=33339.41344195519, avg_songs_per_session=78.91666666666667, downgraded=1, churn=1),\n",
       " Row(artist=None, auth='Cancelled', firstName='Rodrigo', gender='M', itemInSession=73, lastName='Carey', length=None, level='paid', location='New York-Newark-Jersey City, NY-NJ-PA', method='GET', page='Cancellation Confirmation', registration=1535389443000, sessionId=185, song=None, status=200, ts=1542740649000, userAgent='\"Mozilla/5.0 (Windows NT 6.1; WOW64) AppleWebKit/537.36 (KHTML, like Gecko) Chrome/36.0.1985.143 Safari/537.36\"', userId='100014', hour='19', session_activities=74, sessions=6, last_activity=None, session_end=1542740649000, session_start=1542726234000, session_length=14415, listening=0, songs_listend=257, avg_session_length=14198.04193548387, avg_songs_per_session=42.833333333333336, downgraded=1, churn=1),\n",
       " Row(artist=None, auth='Cancelled', firstName='Alex', gender='M', itemInSession=145, lastName='Hogan', length=None, level='paid', location='Denver-Aurora-Lakewood, CO', method='GET', page='Cancellation Confirmation', registration=1535066380000, sessionId=842, song=None, status=200, ts=1539729037000, userAgent='Mozilla/5.0 (Windows NT 6.2; WOW64; rv:31.0) Gecko/20100101 Firefox/31.0', userId='101', hour='22', session_activities=144, sessions=10, last_activity=None, session_end=1539729037000, session_start=1539696921000, session_length=32116, listening=0, songs_listend=1797, avg_session_length=28396.289902280132, avg_songs_per_session=179.7, downgraded=1, churn=1)]"
      ]
     },
     "metadata": {},
     "execution_count": 151
    }
   ],
   "metadata": {}
  },
  {
   "cell_type": "code",
   "execution_count": 36,
   "source": [
    "df.select('status').distinct().show()"
   ],
   "outputs": [
    {
     "output_type": "stream",
     "name": "stdout",
     "text": [
      "+------+\n",
      "|status|\n",
      "+------+\n",
      "|   307|\n",
      "|   404|\n",
      "|   200|\n",
      "+------+\n",
      "\n"
     ]
    }
   ],
   "metadata": {
    "scrolled": true
   }
  },
  {
   "cell_type": "code",
   "execution_count": 37,
   "source": [
    "print(df.select('page').distinct().count())\n",
    "df.select('page').distinct().show()"
   ],
   "outputs": [
    {
     "output_type": "stream",
     "name": "stdout",
     "text": [
      "22\n",
      "+--------------------+\n",
      "|                page|\n",
      "+--------------------+\n",
      "|              Cancel|\n",
      "|    Submit Downgrade|\n",
      "|         Thumbs Down|\n",
      "|                Home|\n",
      "|           Downgrade|\n",
      "|         Roll Advert|\n",
      "|              Logout|\n",
      "|       Save Settings|\n",
      "|Cancellation Conf...|\n",
      "|               About|\n",
      "| Submit Registration|\n",
      "|            Settings|\n",
      "|               Login|\n",
      "|            Register|\n",
      "|     Add to Playlist|\n",
      "|          Add Friend|\n",
      "|            NextSong|\n",
      "|           Thumbs Up|\n",
      "|                Help|\n",
      "|             Upgrade|\n",
      "+--------------------+\n",
      "only showing top 20 rows\n",
      "\n"
     ]
    }
   ],
   "metadata": {
    "scrolled": true
   }
  },
  {
   "cell_type": "code",
   "execution_count": 83,
   "source": [
    "# Activities spent per session\n",
    "df.select('itemInSession').describe().show()"
   ],
   "outputs": [
    {
     "output_type": "stream",
     "name": "stdout",
     "text": [
      "+-------+------------------+\n",
      "|summary|     itemInSession|\n",
      "+-------+------------------+\n",
      "|  count|            286500|\n",
      "|   mean|114.41421291448516|\n",
      "| stddev|129.76726201140994|\n",
      "|    min|                 0|\n",
      "|    max|              1321|\n",
      "+-------+------------------+\n",
      "\n"
     ]
    }
   ],
   "metadata": {
    "scrolled": true
   }
  },
  {
   "cell_type": "code",
   "execution_count": 84,
   "source": [
    "df.select('userAgent').distinct().show()"
   ],
   "outputs": [
    {
     "output_type": "stream",
     "name": "stdout",
     "text": [
      "+--------------------+\n",
      "|           userAgent|\n",
      "+--------------------+\n",
      "|\"Mozilla/5.0 (Mac...|\n",
      "|\"Mozilla/5.0 (Win...|\n",
      "|Mozilla/5.0 (X11;...|\n",
      "|\"Mozilla/5.0 (Mac...|\n",
      "|\"Mozilla/5.0 (Mac...|\n",
      "|Mozilla/5.0 (Maci...|\n",
      "|Mozilla/5.0 (Wind...|\n",
      "|Mozilla/5.0 (Wind...|\n",
      "|Mozilla/5.0 (comp...|\n",
      "|\"Mozilla/5.0 (Win...|\n",
      "|Mozilla/5.0 (Maci...|\n",
      "|\"Mozilla/5.0 (Win...|\n",
      "|                null|\n",
      "|\"Mozilla/5.0 (iPh...|\n",
      "|\"Mozilla/5.0 (Win...|\n",
      "|Mozilla/5.0 (Wind...|\n",
      "|Mozilla/5.0 (comp...|\n",
      "|Mozilla/5.0 (comp...|\n",
      "|\"Mozilla/5.0 (Mac...|\n",
      "|\"Mozilla/5.0 (Mac...|\n",
      "+--------------------+\n",
      "only showing top 20 rows\n",
      "\n"
     ]
    }
   ],
   "metadata": {}
  },
  {
   "cell_type": "code",
   "execution_count": 85,
   "source": [
    "# distinct userIds\n",
    "df.select('userId').distinct().count()"
   ],
   "outputs": [
    {
     "output_type": "execute_result",
     "data": {
      "text/plain": [
       "226"
      ]
     },
     "metadata": {},
     "execution_count": 85
    }
   ],
   "metadata": {}
  },
  {
   "cell_type": "code",
   "execution_count": 92,
   "source": [
    "# activies per user\n",
    "user_activity = df.groupBy('userId').count().toPandas()\n",
    "user_activity.hist()"
   ],
   "outputs": [
    {
     "output_type": "execute_result",
     "data": {
      "text/plain": [
       "array([[<matplotlib.axes._subplots.AxesSubplot object at 0x7f5acad3c160>]], dtype=object)"
      ]
     },
     "metadata": {},
     "execution_count": 92
    },
    {
     "output_type": "display_data",
     "data": {
      "text/plain": [
       "<matplotlib.figure.Figure at 0x7f5ac87837b8>"
      ],
      "image/png": "[encoded data removed]"
     },
     "metadata": {
      "needs_background": "light"
     }
    }
   ],
   "metadata": {}
  },
  {
   "cell_type": "markdown",
   "source": [
    "### Clean Data"
   ],
   "metadata": {}
  },
  {
   "cell_type": "code",
   "execution_count": 87,
   "source": [
    "# Check empty userId\n",
    "df.filter(df['userId'] == '').count()"
   ],
   "outputs": [
    {
     "output_type": "execute_result",
     "data": {
      "text/plain": [
       "8346"
      ]
     },
     "metadata": {},
     "execution_count": 87
    }
   ],
   "metadata": {}
  },
  {
   "cell_type": "code",
   "execution_count": 88,
   "source": [
    "# drop empty userIds\n",
    "df = df.filter(df['userId'] != '')"
   ],
   "outputs": [],
   "metadata": {}
  },
  {
   "cell_type": "markdown",
   "source": [
    "# Feature Engineering\n",
    "Once you've familiarized yourself with the data, build out the features you find promising to train your model on. To work with the full dataset, you can follow the following steps.\n",
    "- Write a script to extract the necessary features from the smaller subset of data\n",
    "- Ensure that your script is scalable, using the best practices discussed in Lesson 3\n",
    "- Try your script on the full data set, debugging your script if necessary\n",
    "\n",
    "If you are working in the classroom workspace, you can just extract features based on the small subset of data contained here. Be sure to transfer over this work to the larger dataset when you work on your Spark cluster."
   ],
   "metadata": {}
  },
  {
   "cell_type": "code",
   "execution_count": 93,
   "source": [
    "# Average action per user\n",
    "user_activity['count'].describe()"
   ],
   "outputs": [
    {
     "output_type": "execute_result",
     "data": {
      "text/plain": [
       "count     225.000000\n",
       "mean     1236.240000\n",
       "std      1329.531716\n",
       "min         6.000000\n",
       "25%       296.000000\n",
       "50%       848.000000\n",
       "75%      1863.000000\n",
       "max      9632.000000\n",
       "Name: count, dtype: float64"
      ]
     },
     "metadata": {},
     "execution_count": 93
    }
   ],
   "metadata": {
    "scrolled": true
   }
  },
  {
   "cell_type": "code",
   "execution_count": 39,
   "source": [
    "125 * (24 * 60 * 60/55) * 0.9"
   ],
   "outputs": [
    {
     "output_type": "execute_result",
     "data": {
      "text/plain": [
       "176727.27272727274"
      ]
     },
     "metadata": {},
     "execution_count": 39
    }
   ],
   "metadata": {}
  },
  {
   "cell_type": "code",
   "execution_count": 94,
   "source": [
    "# Total activies in each session use per user\n",
    "window_session = Window.partitionBy([col(\"userId\"), col(\"sessionId\")])\n",
    "df = df.withColumn(\"session_activities\", count(col('ts')).over(window_session))\n",
    "df.head(5)"
   ],
   "outputs": [
    {
     "output_type": "execute_result",
     "data": {
      "text/plain": [
       "[Row(artist=None, auth='Logged In', firstName='Alex', gender='M', itemInSession=2, lastName='Hogan', length=None, level='paid', location='Denver-Aurora-Lakewood, CO', method='GET', page='Home', registration=1535066380000, sessionId=635, song=None, status=200, ts=1539065365000, userAgent='Mozilla/5.0 (Windows NT 6.2; WOW64; rv:31.0) Gecko/20100101 Firefox/31.0', userId='101', hour='6', session_activities=855),\n",
       " Row(artist=None, auth='Logged In', firstName='Alex', gender='M', itemInSession=3, lastName='Hogan', length=None, level='paid', location='Denver-Aurora-Lakewood, CO', method='PUT', page='Add Friend', registration=1535066380000, sessionId=635, song=None, status=307, ts=1539065366000, userAgent='Mozilla/5.0 (Windows NT 6.2; WOW64; rv:31.0) Gecko/20100101 Firefox/31.0', userId='101', hour='6', session_activities=855),\n",
       " Row(artist=None, auth='Logged In', firstName='Alex', gender='M', itemInSession=4, lastName='Hogan', length=None, level='paid', location='Denver-Aurora-Lakewood, CO', method='PUT', page='Logout', registration=1535066380000, sessionId=635, song=None, status=307, ts=1539065367000, userAgent='Mozilla/5.0 (Windows NT 6.2; WOW64; rv:31.0) Gecko/20100101 Firefox/31.0', userId='101', hour='6', session_activities=855),\n",
       " Row(artist=None, auth='Logged In', firstName='Alex', gender='M', itemInSession=8, lastName='Hogan', length=None, level='paid', location='Denver-Aurora-Lakewood, CO', method='GET', page='Home', registration=1535066380000, sessionId=635, song=None, status=200, ts=1539065797000, userAgent='Mozilla/5.0 (Windows NT 6.2; WOW64; rv:31.0) Gecko/20100101 Firefox/31.0', userId='101', hour='6', session_activities=855),\n",
       " Row(artist='Fall Out Boy', auth='Logged In', firstName='Alex', gender='M', itemInSession=9, lastName='Hogan', length=180.40118, level='paid', location='Denver-Aurora-Lakewood, CO', method='PUT', page='NextSong', registration=1535066380000, sessionId=635, song='Dance_ Dance', status=200, ts=1539065912000, userAgent='Mozilla/5.0 (Windows NT 6.2; WOW64; rv:31.0) Gecko/20100101 Firefox/31.0', userId='101', hour='6', session_activities=855)]"
      ]
     },
     "metadata": {},
     "execution_count": 94
    }
   ],
   "metadata": {}
  },
  {
   "cell_type": "code",
   "execution_count": 95,
   "source": [
    "# Total sessions number\n",
    "window_user = Window.partitionBy(\"userId\")\n",
    "df = df.withColumn(\"sessions\", approx_count_distinct(col('sessionId')).over(window_user))\n",
    "df.head(5)"
   ],
   "outputs": [
    {
     "output_type": "execute_result",
     "data": {
      "text/plain": [
       "[Row(artist='Candlebox', auth='Logged In', firstName='Darianna', gender='F', itemInSession=0, lastName='Carpenter', length=299.72853, level='free', location='Bridgeport-Stamford-Norwalk, CT', method='PUT', page='NextSong', registration=1538016340000, sessionId=174, song='Far Behind  (Album Version)', status=200, ts=1541731560000, userAgent='\"Mozilla/5.0 (iPhone; CPU iPhone OS 7_1_2 like Mac OS X) AppleWebKit/537.51.2 (KHTML, like Gecko) Version/7.0 Mobile/11D257 Safari/9537.53\"', userId='100010', hour='2', session_activities=112, sessions=7),\n",
       " Row(artist='Bebe', auth='Logged In', firstName='Darianna', gender='F', itemInSession=1, lastName='Carpenter', length=225.77587, level='free', location='Bridgeport-Stamford-Norwalk, CT', method='PUT', page='NextSong', registration=1538016340000, sessionId=174, song='Men SeÃ\\x83Â±arÃ\\x83Â¡', status=200, ts=1541731859000, userAgent='\"Mozilla/5.0 (iPhone; CPU iPhone OS 7_1_2 like Mac OS X) AppleWebKit/537.51.2 (KHTML, like Gecko) Version/7.0 Mobile/11D257 Safari/9537.53\"', userId='100010', hour='2', session_activities=112, sessions=7),\n",
       " Row(artist=None, auth='Logged In', firstName='Darianna', gender='F', itemInSession=2, lastName='Carpenter', length=None, level='free', location='Bridgeport-Stamford-Norwalk, CT', method='GET', page='About', registration=1538016340000, sessionId=174, song=None, status=200, ts=1541731895000, userAgent='\"Mozilla/5.0 (iPhone; CPU iPhone OS 7_1_2 like Mac OS X) AppleWebKit/537.51.2 (KHTML, like Gecko) Version/7.0 Mobile/11D257 Safari/9537.53\"', userId='100010', hour='2', session_activities=112, sessions=7),\n",
       " Row(artist='The Verve', auth='Logged In', firstName='Darianna', gender='F', itemInSession=3, lastName='Carpenter', length=360.25424, level='free', location='Bridgeport-Stamford-Norwalk, CT', method='PUT', page='NextSong', registration=1538016340000, sessionId=174, song='Bitter Sweet Symphony', status=200, ts=1541732084000, userAgent='\"Mozilla/5.0 (iPhone; CPU iPhone OS 7_1_2 like Mac OS X) AppleWebKit/537.51.2 (KHTML, like Gecko) Version/7.0 Mobile/11D257 Safari/9537.53\"', userId='100010', hour='2', session_activities=112, sessions=7),\n",
       " Row(artist='Yeah Yeah Yeahs', auth='Logged In', firstName='Darianna', gender='F', itemInSession=4, lastName='Carpenter', length=242.05016, level='free', location='Bridgeport-Stamford-Norwalk, CT', method='PUT', page='NextSong', registration=1538016340000, sessionId=174, song='Dragon Queen', status=200, ts=1541732444000, userAgent='\"Mozilla/5.0 (iPhone; CPU iPhone OS 7_1_2 like Mac OS X) AppleWebKit/537.51.2 (KHTML, like Gecko) Version/7.0 Mobile/11D257 Safari/9537.53\"', userId='100010', hour='3', session_activities=112, sessions=7)]"
      ]
     },
     "metadata": {},
     "execution_count": 95
    }
   ],
   "metadata": {}
  },
  {
   "cell_type": "code",
   "execution_count": 96,
   "source": [
    "window = Window.partitionBy('userId').orderBy('ts')\n",
    "df = df.withColumn(\"last_activity\", lead(col(\"ts\"), 1).over(window))"
   ],
   "outputs": [],
   "metadata": {}
  },
  {
   "cell_type": "code",
   "execution_count": 99,
   "source": [
    "# custom function to calcalate time difference in seconds between two timestamps \n",
    "calc_time_diff = udf(lambda t1, t2: \n",
    "                     abs(datetime.datetime.fromtimestamp(t1 / 1000.0) - datetime.datetime.fromtimestamp(t2 / 1000.0)).seconds)"
   ],
   "outputs": [],
   "metadata": {}
  },
  {
   "cell_type": "code",
   "execution_count": 100,
   "source": [
    "# Calc Session Time for each session\n",
    "df = df.withColumn(\"session_end\", F.max(col('ts')).over(window_session))\n",
    "df = df.withColumn(\"session_start\", F.min(col('ts')).over(window_session))\n",
    "df = df.withColumn(\"session_length\", calc_time_diff(col('session_end'), col(\"session_start\")).cast(\"int\"))\n",
    "df.head(5)"
   ],
   "outputs": [
    {
     "output_type": "execute_result",
     "data": {
      "text/plain": [
       "[Row(artist='Sleeping With Sirens', auth='Logged In', firstName='Darianna', gender='F', itemInSession=0, lastName='Carpenter', length=202.97098, level='free', location='Bridgeport-Stamford-Norwalk, CT', method='PUT', page='NextSong', registration=1538016340000, sessionId=31, song='Captain Tyin Knots VS Mr Walkway (No Way)', status=200, ts=1539003534000, userAgent='\"Mozilla/5.0 (iPhone; CPU iPhone OS 7_1_2 like Mac OS X) AppleWebKit/537.51.2 (KHTML, like Gecko) Version/7.0 Mobile/11D257 Safari/9537.53\"', userId='100010', hour='12', session_activities=40, sessions=7, last_activity=1539003736000, session_end=1539010247000, session_start=1539003534000, session_length=6713),\n",
       " Row(artist='Francesca Battistelli', auth='Logged In', firstName='Darianna', gender='F', itemInSession=1, lastName='Carpenter', length=196.54485, level='free', location='Bridgeport-Stamford-Norwalk, CT', method='PUT', page='NextSong', registration=1538016340000, sessionId=31, song='Beautiful_ Beautiful (Album)', status=200, ts=1539003736000, userAgent='\"Mozilla/5.0 (iPhone; CPU iPhone OS 7_1_2 like Mac OS X) AppleWebKit/537.51.2 (KHTML, like Gecko) Version/7.0 Mobile/11D257 Safari/9537.53\"', userId='100010', hour='13', session_activities=40, sessions=7, last_activity=1539003932000, session_end=1539010247000, session_start=1539003534000, session_length=6713),\n",
       " Row(artist='Brutha', auth='Logged In', firstName='Darianna', gender='F', itemInSession=2, lastName='Carpenter', length=263.13098, level='free', location='Bridgeport-Stamford-Norwalk, CT', method='PUT', page='NextSong', registration=1538016340000, sessionId=31, song=\"She's Gone\", status=200, ts=1539003932000, userAgent='\"Mozilla/5.0 (iPhone; CPU iPhone OS 7_1_2 like Mac OS X) AppleWebKit/537.51.2 (KHTML, like Gecko) Version/7.0 Mobile/11D257 Safari/9537.53\"', userId='100010', hour='13', session_activities=40, sessions=7, last_activity=1539003933000, session_end=1539010247000, session_start=1539003534000, session_length=6713),\n",
       " Row(artist=None, auth='Logged In', firstName='Darianna', gender='F', itemInSession=3, lastName='Carpenter', length=None, level='free', location='Bridgeport-Stamford-Norwalk, CT', method='PUT', page='Thumbs Up', registration=1538016340000, sessionId=31, song=None, status=307, ts=1539003933000, userAgent='\"Mozilla/5.0 (iPhone; CPU iPhone OS 7_1_2 like Mac OS X) AppleWebKit/537.51.2 (KHTML, like Gecko) Version/7.0 Mobile/11D257 Safari/9537.53\"', userId='100010', hour='13', session_activities=40, sessions=7, last_activity=1539004195000, session_end=1539010247000, session_start=1539003534000, session_length=6713),\n",
       " Row(artist='Josh Ritter', auth='Logged In', firstName='Darianna', gender='F', itemInSession=4, lastName='Carpenter', length=316.23791, level='free', location='Bridgeport-Stamford-Norwalk, CT', method='PUT', page='NextSong', registration=1538016340000, sessionId=31, song='Folk Bloodbath', status=200, ts=1539004195000, userAgent='\"Mozilla/5.0 (iPhone; CPU iPhone OS 7_1_2 like Mac OS X) AppleWebKit/537.51.2 (KHTML, like Gecko) Version/7.0 Mobile/11D257 Safari/9537.53\"', userId='100010', hour='13', session_activities=40, sessions=7, last_activity=1539004511000, session_end=1539010247000, session_start=1539003534000, session_length=6713)]"
      ]
     },
     "metadata": {},
     "execution_count": 100
    }
   ],
   "metadata": {}
  },
  {
   "cell_type": "code",
   "execution_count": 101,
   "source": [
    "listening_music = udf(lambda x: 1 if x == \"NextSong\" else 0, IntegerType())\n",
    "# Calc total songs listened per user\n",
    "df = df.withColumn(\"listening\", listening_music(col('page')))\n",
    "df = df.withColumn(\"songs_listend\", F.sum(col('listening')).over(window_user))\n",
    "df.head(5)"
   ],
   "outputs": [
    {
     "output_type": "execute_result",
     "data": {
      "text/plain": [
       "[Row(artist='Sleeping With Sirens', auth='Logged In', firstName='Darianna', gender='F', itemInSession=0, lastName='Carpenter', length=202.97098, level='free', location='Bridgeport-Stamford-Norwalk, CT', method='PUT', page='NextSong', registration=1538016340000, sessionId=31, song='Captain Tyin Knots VS Mr Walkway (No Way)', status=200, ts=1539003534000, userAgent='\"Mozilla/5.0 (iPhone; CPU iPhone OS 7_1_2 like Mac OS X) AppleWebKit/537.51.2 (KHTML, like Gecko) Version/7.0 Mobile/11D257 Safari/9537.53\"', userId='100010', hour='12', session_activities=40, sessions=7, last_activity=1539003736000, session_end=1539010247000, session_start=1539003534000, session_length=6713, listening=1, songs_listend=275),\n",
       " Row(artist='Francesca Battistelli', auth='Logged In', firstName='Darianna', gender='F', itemInSession=1, lastName='Carpenter', length=196.54485, level='free', location='Bridgeport-Stamford-Norwalk, CT', method='PUT', page='NextSong', registration=1538016340000, sessionId=31, song='Beautiful_ Beautiful (Album)', status=200, ts=1539003736000, userAgent='\"Mozilla/5.0 (iPhone; CPU iPhone OS 7_1_2 like Mac OS X) AppleWebKit/537.51.2 (KHTML, like Gecko) Version/7.0 Mobile/11D257 Safari/9537.53\"', userId='100010', hour='13', session_activities=40, sessions=7, last_activity=1539003932000, session_end=1539010247000, session_start=1539003534000, session_length=6713, listening=1, songs_listend=275),\n",
       " Row(artist='Brutha', auth='Logged In', firstName='Darianna', gender='F', itemInSession=2, lastName='Carpenter', length=263.13098, level='free', location='Bridgeport-Stamford-Norwalk, CT', method='PUT', page='NextSong', registration=1538016340000, sessionId=31, song=\"She's Gone\", status=200, ts=1539003932000, userAgent='\"Mozilla/5.0 (iPhone; CPU iPhone OS 7_1_2 like Mac OS X) AppleWebKit/537.51.2 (KHTML, like Gecko) Version/7.0 Mobile/11D257 Safari/9537.53\"', userId='100010', hour='13', session_activities=40, sessions=7, last_activity=1539003933000, session_end=1539010247000, session_start=1539003534000, session_length=6713, listening=1, songs_listend=275),\n",
       " Row(artist=None, auth='Logged In', firstName='Darianna', gender='F', itemInSession=3, lastName='Carpenter', length=None, level='free', location='Bridgeport-Stamford-Norwalk, CT', method='PUT', page='Thumbs Up', registration=1538016340000, sessionId=31, song=None, status=307, ts=1539003933000, userAgent='\"Mozilla/5.0 (iPhone; CPU iPhone OS 7_1_2 like Mac OS X) AppleWebKit/537.51.2 (KHTML, like Gecko) Version/7.0 Mobile/11D257 Safari/9537.53\"', userId='100010', hour='13', session_activities=40, sessions=7, last_activity=1539004195000, session_end=1539010247000, session_start=1539003534000, session_length=6713, listening=0, songs_listend=275),\n",
       " Row(artist='Josh Ritter', auth='Logged In', firstName='Darianna', gender='F', itemInSession=4, lastName='Carpenter', length=316.23791, level='free', location='Bridgeport-Stamford-Norwalk, CT', method='PUT', page='NextSong', registration=1538016340000, sessionId=31, song='Folk Bloodbath', status=200, ts=1539004195000, userAgent='\"Mozilla/5.0 (iPhone; CPU iPhone OS 7_1_2 like Mac OS X) AppleWebKit/537.51.2 (KHTML, like Gecko) Version/7.0 Mobile/11D257 Safari/9537.53\"', userId='100010', hour='13', session_activities=40, sessions=7, last_activity=1539004511000, session_end=1539010247000, session_start=1539003534000, session_length=6713, listening=1, songs_listend=275)]"
      ]
     },
     "metadata": {},
     "execution_count": 101
    }
   ],
   "metadata": {}
  },
  {
   "cell_type": "code",
   "execution_count": 102,
   "source": [
    "# Average session length\n",
    "df = df.withColumn('avg_session_length', avg(col('session_length')).over(window_user))\n",
    "# Average songs listened session\n",
    "df = df.withColumn('avg_songs_per_session', col('songs_listend')/col('sessions'))"
   ],
   "outputs": [],
   "metadata": {}
  },
  {
   "cell_type": "code",
   "execution_count": 103,
   "source": [
    "df.select(['userId', 'ts', 'last_activity', 'sessionId', 'session_start', \n",
    "           'session_end', 'session_length','sessions', 'session_activities',\n",
    "           'songs_listend', 'avg_session_length', 'avg_songs_per_session']).where(df.userId == \"125\").collect()"
   ],
   "outputs": [
    {
     "output_type": "execute_result",
     "data": {
      "text/plain": [
       "[Row(userId='125', ts=1539317144000, last_activity=1539317481000, sessionId=174, session_start=1539317144000, session_end=1539318918000, session_length=1774, sessions=1, session_activities=11, songs_listend=8, avg_session_length=1774.0, avg_songs_per_session=8.0),\n",
       " Row(userId='125', ts=1539317481000, last_activity=1539317711000, sessionId=174, session_start=1539317144000, session_end=1539318918000, session_length=1774, sessions=1, session_activities=11, songs_listend=8, avg_session_length=1774.0, avg_songs_per_session=8.0),\n",
       " Row(userId='125', ts=1539317711000, last_activity=1539317914000, sessionId=174, session_start=1539317144000, session_end=1539318918000, session_length=1774, sessions=1, session_activities=11, songs_listend=8, avg_session_length=1774.0, avg_songs_per_session=8.0),\n",
       " Row(userId='125', ts=1539317914000, last_activity=1539318124000, sessionId=174, session_start=1539317144000, session_end=1539318918000, session_length=1774, sessions=1, session_activities=11, songs_listend=8, avg_session_length=1774.0, avg_songs_per_session=8.0),\n",
       " Row(userId='125', ts=1539318124000, last_activity=1539318515000, sessionId=174, session_start=1539317144000, session_end=1539318918000, session_length=1774, sessions=1, session_activities=11, songs_listend=8, avg_session_length=1774.0, avg_songs_per_session=8.0),\n",
       " Row(userId='125', ts=1539318515000, last_activity=1539318728000, sessionId=174, session_start=1539317144000, session_end=1539318918000, session_length=1774, sessions=1, session_activities=11, songs_listend=8, avg_session_length=1774.0, avg_songs_per_session=8.0),\n",
       " Row(userId='125', ts=1539318728000, last_activity=1539318906000, sessionId=174, session_start=1539317144000, session_end=1539318918000, session_length=1774, sessions=1, session_activities=11, songs_listend=8, avg_session_length=1774.0, avg_songs_per_session=8.0),\n",
       " Row(userId='125', ts=1539318906000, last_activity=1539318917000, sessionId=174, session_start=1539317144000, session_end=1539318918000, session_length=1774, sessions=1, session_activities=11, songs_listend=8, avg_session_length=1774.0, avg_songs_per_session=8.0),\n",
       " Row(userId='125', ts=1539318917000, last_activity=1539318918000, sessionId=174, session_start=1539317144000, session_end=1539318918000, session_length=1774, sessions=1, session_activities=11, songs_listend=8, avg_session_length=1774.0, avg_songs_per_session=8.0),\n",
       " Row(userId='125', ts=1539318918000, last_activity=1539318918000, sessionId=174, session_start=1539317144000, session_end=1539318918000, session_length=1774, sessions=1, session_activities=11, songs_listend=8, avg_session_length=1774.0, avg_songs_per_session=8.0),\n",
       " Row(userId='125', ts=1539318918000, last_activity=None, sessionId=174, session_start=1539317144000, session_end=1539318918000, session_length=1774, sessions=1, session_activities=11, songs_listend=8, avg_session_length=1774.0, avg_songs_per_session=8.0)]"
      ]
     },
     "metadata": {},
     "execution_count": 103
    }
   ],
   "metadata": {
    "scrolled": true
   }
  },
  {
   "cell_type": "code",
   "execution_count": 104,
   "source": [
    "# Churn event\n",
    "flag_downgrade_event = udf(lambda x: 1 if x == \"Cancellation Confirmation\" else 0, IntegerType())"
   ],
   "outputs": [],
   "metadata": {}
  },
  {
   "cell_type": "code",
   "execution_count": 105,
   "source": [
    "# Get churn event\n",
    "df = df.withColumn(\"downgraded\", flag_downgrade_event(\"page\"))\n",
    "df.head()"
   ],
   "outputs": [
    {
     "output_type": "execute_result",
     "data": {
      "text/plain": [
       "Row(artist='Sleeping With Sirens', auth='Logged In', firstName='Darianna', gender='F', itemInSession=0, lastName='Carpenter', length=202.97098, level='free', location='Bridgeport-Stamford-Norwalk, CT', method='PUT', page='NextSong', registration=1538016340000, sessionId=31, song='Captain Tyin Knots VS Mr Walkway (No Way)', status=200, ts=1539003534000, userAgent='\"Mozilla/5.0 (iPhone; CPU iPhone OS 7_1_2 like Mac OS X) AppleWebKit/537.51.2 (KHTML, like Gecko) Version/7.0 Mobile/11D257 Safari/9537.53\"', userId='100010', hour='12', session_activities=40, sessions=7, last_activity=1539003736000, session_end=1539010247000, session_start=1539003534000, session_length=6713, listening=1, songs_listend=275, avg_session_length=12203.010498687665, avg_songs_per_session=39.285714285714285, downgraded=0)"
      ]
     },
     "metadata": {},
     "execution_count": 105
    }
   ],
   "metadata": {}
  },
  {
   "cell_type": "code",
   "execution_count": 106,
   "source": [
    "windowval = Window.partitionBy(\"userId\").orderBy(desc(\"ts\")).rangeBetween(Window.unboundedPreceding, 0)\n",
    "df = df.withColumn(\"churn\", Fsum(\"downgraded\").over(windowval))\n",
    "df.head()"
   ],
   "outputs": [
    {
     "output_type": "execute_result",
     "data": {
      "text/plain": [
       "Row(artist=None, auth='Logged In', firstName='Darianna', gender='F', itemInSession=34, lastName='Carpenter', length=None, level='free', location='Bridgeport-Stamford-Norwalk, CT', method='PUT', page='Logout', registration=1538016340000, sessionId=187, song=None, status=307, ts=1542823952000, userAgent='\"Mozilla/5.0 (iPhone; CPU iPhone OS 7_1_2 like Mac OS X) AppleWebKit/537.51.2 (KHTML, like Gecko) Version/7.0 Mobile/11D257 Safari/9537.53\"', userId='100010', hour='18', session_activities=33, sessions=7, last_activity=None, session_end=1542823952000, session_start=1542818132000, session_length=5820, listening=0, songs_listend=275, avg_session_length=12203.010498687665, avg_songs_per_session=39.285714285714285, downgraded=0, churn=0)"
      ]
     },
     "metadata": {},
     "execution_count": 106
    }
   ],
   "metadata": {}
  },
  {
   "cell_type": "code",
   "execution_count": 107,
   "source": [
    "# check churn stats\n",
    "df.dropDuplicates(['userId']).select(['userId', 'churn']).groupby('churn').count().collect()"
   ],
   "outputs": [
    {
     "output_type": "execute_result",
     "data": {
      "text/plain": [
       "[Row(churn=0, count=173), Row(churn=1, count=52)]"
      ]
     },
     "metadata": {},
     "execution_count": 107
    }
   ],
   "metadata": {}
  },
  {
   "cell_type": "markdown",
   "source": [
    "# Modeling\n",
    "Split the full dataset into train, test, and validation sets. Test out several of the machine learning methods you learned. Evaluate the accuracy of the various models, tuning parameters as necessary. Determine your winning model based on test accuracy and report results on the validation set. Since the churned users are a fairly small subset, I suggest using F1 score as the metric to optimize."
   ],
   "metadata": {}
  },
  {
   "cell_type": "code",
   "execution_count": 148,
   "source": [
    "from pyspark.ml.classification import LogisticRegression\n",
    "from pyspark.ml.classification import RandomForestClassifier\n",
    "from pyspark.ml.feature import VectorAssembler\n",
    "from pyspark.mllib.evaluation import BinaryClassificationMetrics\n",
    "from pyspark.ml.classification import DecisionTreeClassifier"
   ],
   "outputs": [],
   "metadata": {}
  },
  {
   "cell_type": "code",
   "execution_count": 109,
   "source": [
    "df_final = df.select(['userId','sessions', 'songs_listend',\n",
    "                      'avg_session_length', 'avg_songs_per_session', 'churn']).dropDuplicates()\n",
    "df_final.take(5)"
   ],
   "outputs": [
    {
     "output_type": "execute_result",
     "data": {
      "text/plain": [
       "[Row(userId='100010', sessions=7, songs_listend=275, avg_session_length=12203.010498687665, avg_songs_per_session=39.285714285714285, churn=0),\n",
       " Row(userId='200002', sessions=6, songs_listend=387, avg_session_length=24320.852320675105, avg_songs_per_session=64.5, churn=0),\n",
       " Row(userId='125', sessions=1, songs_listend=8, avg_session_length=1774.0, avg_songs_per_session=8.0, churn=1),\n",
       " Row(userId='124', sessions=30, songs_listend=4079, avg_session_length=31024.511917098447, avg_songs_per_session=135.96666666666667, churn=0),\n",
       " Row(userId='51', sessions=10, songs_listend=2111, avg_session_length=30557.145698051947, avg_songs_per_session=211.1, churn=1)]"
      ]
     },
     "metadata": {},
     "execution_count": 109
    }
   ],
   "metadata": {
    "scrolled": true
   }
  },
  {
   "cell_type": "code",
   "execution_count": 110,
   "source": [
    "features = ['sessions', 'songs_listend', 'avg_session_length', 'avg_songs_per_session']\n",
    "assembler = VectorAssembler(inputCols=features, outputCol=\"features\")\n",
    "df_final = assembler.transform(df_final)\n",
    "df_final.take(5)"
   ],
   "outputs": [
    {
     "output_type": "execute_result",
     "data": {
      "text/plain": [
       "[Row(userId='100010', sessions=7, songs_listend=275, avg_session_length=12203.010498687665, avg_songs_per_session=39.285714285714285, churn=0, features=DenseVector([7.0, 275.0, 12203.0105, 39.2857])),\n",
       " Row(userId='200002', sessions=6, songs_listend=387, avg_session_length=24320.852320675105, avg_songs_per_session=64.5, churn=0, features=DenseVector([6.0, 387.0, 24320.8523, 64.5])),\n",
       " Row(userId='125', sessions=1, songs_listend=8, avg_session_length=1774.0, avg_songs_per_session=8.0, churn=1, features=DenseVector([1.0, 8.0, 1774.0, 8.0])),\n",
       " Row(userId='124', sessions=30, songs_listend=4079, avg_session_length=31024.511917098447, avg_songs_per_session=135.96666666666667, churn=0, features=DenseVector([30.0, 4079.0, 31024.5119, 135.9667])),\n",
       " Row(userId='51', sessions=10, songs_listend=2111, avg_session_length=30557.145698051947, avg_songs_per_session=211.1, churn=1, features=DenseVector([10.0, 2111.0, 30557.1457, 211.1]))]"
      ]
     },
     "metadata": {},
     "execution_count": 110
    }
   ],
   "metadata": {}
  },
  {
   "cell_type": "code",
   "execution_count": 111,
   "source": [
    "train, test = df_final.randomSplit([0.8, 0.2], seed = 42)\n",
    "print(\"Training Dataset Count: \" + str(train.count()))\n",
    "print(\"Test Dataset Count: \" + str(test.count()))"
   ],
   "outputs": [
    {
     "output_type": "stream",
     "name": "stdout",
     "text": [
      "Training Dataset Count: 191\n",
      "Test Dataset Count: 34\n"
     ]
    }
   ],
   "metadata": {}
  },
  {
   "cell_type": "markdown",
   "source": [
    "### Logistic Regression"
   ],
   "metadata": {}
  },
  {
   "cell_type": "code",
   "execution_count": 112,
   "source": [
    "lr = LogisticRegression(featuresCol = 'features', labelCol = 'churn', maxIter=10)\n",
    "lrModel = lr.fit(train)"
   ],
   "outputs": [],
   "metadata": {}
  },
  {
   "cell_type": "code",
   "execution_count": 118,
   "source": [
    "trainingSummary = lrModel.summary\n",
    "pr = trainingSummary.pr.toPandas()b\n",
    "plt.plot(pr['recall'],pr['precision'])\n",
    "plt.ylabel('Precision')\n",
    "plt.xlabel('Recall')\n",
    "plt.show()"
   ],
   "outputs": [
    {
     "output_type": "display_data",
     "data": {
      "text/plain": [
       "<matplotlib.figure.Figure at 0x7f5ac5852390>"
      ],
      "image/png": "[encoded data removed]"
     },
     "metadata": {
      "needs_background": "light"
     }
    }
   ],
   "metadata": {}
  },
  {
   "cell_type": "code",
   "execution_count": 149,
   "source": [
    "pred = lrModel.transform(test)\n",
    "TP = pred.filter(pred.churn == pred.prediction).count()\n",
    "total = test.count()\n",
    "print('accuracy for logistic regression is', TP/total)"
   ],
   "outputs": [
    {
     "output_type": "stream",
     "name": "stdout",
     "text": [
      "accuracy for logistic regression is 0.7647058823529411\n"
     ]
    }
   ],
   "metadata": {}
  },
  {
   "cell_type": "markdown",
   "source": [
    "### Decision Tree Classifier"
   ],
   "metadata": {}
  },
  {
   "cell_type": "code",
   "execution_count": 40,
   "source": [
    "dt = DecisionTreeClassifier(featuresCol = 'features', labelCol = 'churn', maxDepth = 3)\n",
    "dtModel = dt.fit(train)\n",
    "pred = dtModel.transform(test)\n",
    "TP = pred.filter(pred.churn == pred.prediction).count()\n",
    "total = test.count()\n",
    "print('accuracy for decsion tree is', TP/total)"
   ],
   "outputs": [
    {
     "output_type": "stream",
     "name": "stdout",
     "text": [
      "accuracy for decsion tree is 0.7941176470588235\n"
     ]
    }
   ],
   "metadata": {}
  },
  {
   "cell_type": "markdown",
   "source": [
    "### Random Forest Classifier"
   ],
   "metadata": {}
  },
  {
   "cell_type": "code",
   "execution_count": 147,
   "source": [
    "rf = RandomForestClassifier(featuresCol = 'features', labelCol = 'churn')\n",
    "rfModel = rf.fit(train)\n",
    "pred = rfModel.transform(test)\n",
    "TP = pred.filter(pred.churn == pred.prediction).count()\n",
    "total = test.count()\n",
    "print('accuracy for ramdom forest is', TP/total)"
   ],
   "outputs": [
    {
     "output_type": "stream",
     "name": "stdout",
     "text": [
      "accuracy for ramdom forest is 0.7647058823529411\n"
     ]
    }
   ],
   "metadata": {}
  },
  {
   "cell_type": "markdown",
   "source": [
    "__The decision tree classifier has achieved overall highest acurracy. However, after all the feature engineering, there are only 225 rows in the data which might be too small to train a robust model.__"
   ],
   "metadata": {}
  },
  {
   "cell_type": "markdown",
   "source": [
    "# Final Steps\n",
    "Clean up your code, adding comments and renaming variables to make the code easier to read and maintain. Refer to the Spark Project Overview page and Data Scientist Capstone Project Rubric to make sure you are including all components of the capstone project and meet all expectations. Remember, this includes thorough documentation in a README file in a Github repository, as well as a web app or blog post."
   ],
   "metadata": {}
  },
  {
   "cell_type": "code",
   "execution_count": null,
   "source": [],
   "outputs": [],
   "metadata": {}
  }
 ],
 "metadata": {
  "kernelspec": {
   "name": "python3",
   "display_name": "Python 3.7.4 64-bit ('base': conda)"
  },
  "language_info": {
   "codemirror_mode": {
    "name": "ipython",
    "version": 3
   },
   "file_extension": ".py",
   "mimetype": "text/x-python",
   "name": "python",
   "nbconvert_exporter": "python",
   "pygments_lexer": "ipython3",
   "version": "3.7.4"
  },
  "interpreter": {
   "hash": "3da27f0e262fa4ca77a273a87a2b208d6a3aa717dd0d56e9bf45a0b8888f5214"
  }
 },
 "nbformat": 4,
 "nbformat_minor": 2
}